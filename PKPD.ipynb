{
 "cells": [
  {
   "cell_type": "raw",
   "metadata": {},
   "source": [
    "df <- data.frame(product = c('Oven', 'Microwave', 'Toaster'),\n",
    "                 price = c(850, 300, 120)\n",
    "                 )\n",
    "print (df)"
   ]
  }
 ],
 "metadata": {
  "language_info": {
   "name": "R"
  },
  "orig_nbformat": 4
 },
 "nbformat": 4,
 "nbformat_minor": 2
}
